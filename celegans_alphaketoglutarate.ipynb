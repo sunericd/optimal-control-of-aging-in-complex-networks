{
 "cells": [
  {
   "cell_type": "markdown",
   "metadata": {},
   "source": [
    "# Fitting Survival Data from C. elegans alpha-ketoglutarate treatment\n",
    "\n",
    "Estimating $f$ and $I$ from survival data of real-world systems to predict corresponding optimal repair protocols\n",
    "\n",
    "See manuscript for appropriate references"
   ]
  },
  {
   "cell_type": "code",
   "execution_count": 1,
   "metadata": {
    "collapsed": true
   },
   "outputs": [],
   "source": [
    "from model import *\n",
    "import pandas as pd\n",
    "from q_learning import *"
   ]
  },
  {
   "cell_type": "code",
   "execution_count": 2,
   "metadata": {
    "collapsed": false
   },
   "outputs": [],
   "source": [
    "# Function for getting failure times\n",
    "def get_pop_ftimes (pop_size, N, f, I, r=0):\n",
    "    # Simulate pop networks (end_time = 150 to match data)\n",
    "    pop = pop_size\n",
    "    vits = []\n",
    "    fail_times = []\n",
    "    for n in range(pop):\n",
    "        vit, inter, ftime, cost = simIndividual(N=N, p=0.1, d=0, f=f, r=r, f_thresh=0.01,\n",
    "            graph_type='Grandom_s', weight_type='uniform', check_type='none', kinetic=1, P_check=1, e=0, cost_type=['healthspan_quadratic', 8000], \n",
    "            costC=0.1, costR=1, costE=0.5, costD=0.5, costL=1, P_repl=0, costrepl=1, max_repl=1, repl_type='constant',\n",
    "            node_type='binary', damage_type='uniform', edge_type='binary', f_edge=0, r_edge=0, std=0.3, \n",
    "            P_ablate=0,costablate=1,ablate_type='constant',repair_start=0,repair_end=150,delay=0,time_end=150,dependency=I,\n",
    "                                               equilibrate_failures=True)\n",
    "        fail_times.append(ftime)\n",
    "    return (fail_times)\n",
    "\n",
    "# Function for computing death statistics from failure times\n",
    "def save_deaths (ftimes, filedir, filename):\n",
    "    ages = np.arange(np.min(ftimes),np.max(ftimes)+1)\n",
    "    counts = []\n",
    "    rates = []\n",
    "    popsize=len(ftimes)\n",
    "    new_ages = []\n",
    "    for age in ages:\n",
    "        count = np.count_nonzero(np.array(ftimes)==age)\n",
    "        counts.append(count)\n",
    "        rate, popsize = compute_mortality_rate(popsize, counts)\n",
    "        #rates.append(count/len(ftimes))\n",
    "        rates.append(rate)\n",
    "        new_ages.append(age)\n",
    "        if popsize == 0:\n",
    "            ages = new_ages\n",
    "            break\n",
    "    np.savetxt('Data/real_world/'+filedir+'/'+filename+'.csv', np.vstack((ages,counts,rates)).T, delimiter=',')\n",
    "    return (rates)\n",
    "\n",
    "def compute_mortality_rate (pop_size, deaths):\n",
    "    deaths = deaths[0]\n",
    "    new_pop_size = pop_size - deaths\n",
    "    rate = deaths/pop_size\n",
    "    return (rate, new_pop_size)\n",
    "    \n",
    "# Main function for running grid search over parameters f and I and saving results\n",
    "def run_grid_search (f_list, I_list, N, pop_size, filedir, r_list=None):\n",
    "    if r_list is None:\n",
    "        for f in f_list:\n",
    "            for I in I_list:\n",
    "                ft = get_pop_ftimes(pop_size, N, f, I)\n",
    "                fn = 'f'+str(f)+'_I'+str(I)\n",
    "                rates = save_deaths(ft, filedir, fn)\n",
    "    else:\n",
    "        f = f_list[0]\n",
    "        I = I_list[0]\n",
    "        for r in r_list:\n",
    "            ft = get_pop_ftimes(pop_size, N, f, I, r)\n",
    "            fn = 'r'+str(r)\n",
    "            rates = save_deaths(ft, filedir, fn)"
   ]
  },
  {
   "cell_type": "markdown",
   "metadata": {},
   "source": [
    "#### Read in Mortality Data and fit to saved grid search parameters"
   ]
  },
  {
   "cell_type": "code",
   "execution_count": 3,
   "metadata": {
    "collapsed": true
   },
   "outputs": [],
   "source": [
    "# function for finding nearest value in array\n",
    "def find_nearest_idx(array, value):\n",
    "    array = np.asarray(array)\n",
    "    idx = (np.abs(array - value)).argmin()\n",
    "    return idx"
   ]
  },
  {
   "cell_type": "markdown",
   "metadata": {},
   "source": [
    "### Fitting Failure Time Distributions (KS distance)\n",
    "\n",
    "1. Fit normal survival data $\\rightarrow$ $f$, $I$\n",
    "    - Bootstrap empirical data 100 times to ensure robust fitting (pick lowest average KS distance)\n",
    "    \n",
    "2. Used fitted f and I and fit repair survival data (alpha ketogluturate) $\\rightarrow$ $r$\n",
    "    - Bootstrap empirical data 100 times to ensure robust fitting (pick lowest average KS distance)"
   ]
  },
  {
   "cell_type": "code",
   "execution_count": 12,
   "metadata": {
    "collapsed": false
   },
   "outputs": [],
   "source": [
    "from scipy.stats import ks_2samp\n",
    "\n",
    "fn = 'alpha_kg_lifespans'\n",
    "fitdir = 'fandI_N200_pop10000'\n",
    "\n",
    "experiment = 'Vehicle'\n",
    "\n",
    "ps = 10000 # pop_size\n",
    "\n",
    "fitted_f = []\n",
    "fitted_I = []\n",
    "\n",
    "# Read in mortality data for each of the files\n",
    "\n",
    "ks_dist_list = []\n",
    "\n",
    "for boot in range(100):\n",
    "    # read and bootstrap data\n",
    "    df = pd.read_csv('Data/real_world/empirical_mortality_data/Lifespans/'+fn+'.csv')\n",
    "    dat_lifespans = df[experiment].values\n",
    "    dat_lifespans = dat_lifespans[np.logical_not(np.isnan(dat_lifespans))]\n",
    "    dat_lifespans = np.random.choice(dat_lifespans, len(dat_lifespans), replace=True)\n",
    "    \n",
    "    # Run fitting\n",
    "    ks_dists = []\n",
    "    p_vals = []\n",
    "    f_vals = []\n",
    "    I_vals = []\n",
    "\n",
    "    nnlifespans = []\n",
    "    for fi in os.listdir('Data/real_world/'+fitdir):\n",
    "\n",
    "        # get parameters\n",
    "        prm_str = fi.split('f')[1].split('_I')\n",
    "        f = float(prm_str[0])\n",
    "        I = float(prm_str[1].split('.c')[0])\n",
    "\n",
    "        # get network data\n",
    "        net_df = pd.read_csv('Data/real_world/'+fitdir+'/'+fi, names=['age', 'deaths', 'mortality'])\n",
    "        net_ages = net_df['age'].values\n",
    "        net_deaths = net_df['deaths'].values\n",
    "        net_lifespans = []\n",
    "        for idd, net_age in enumerate(net_ages):\n",
    "            for iddd in range(int(net_deaths[idd])):\n",
    "                net_lifespans.append(net_age)\n",
    "        net_lifespans = np.array(net_lifespans)\n",
    "\n",
    "        # compute KS distance\n",
    "        D, p = ks_2samp(net_lifespans, dat_lifespans)\n",
    "        ks_dists.append(D)\n",
    "        p_vals.append(p)\n",
    "\n",
    "        # append details\n",
    "        f_vals.append(f)\n",
    "        I_vals.append(I)\n",
    "\n",
    "        nnlifespans.append(net_lifespans)\n",
    "\n",
    "    ks_dist_list.append(ks_dists)\n",
    "    \n",
    "# Compute average ks_dist\n",
    "ks_dists = list(np.mean(np.vstack(ks_dist_list),axis=0))\n",
    "\n",
    "# Get optimal (lowest MSE) fit\n",
    "opt_idx = ks_dists.index(min(ks_dists))\n",
    "#opt_idx = p_vals.index(max(p_vals))\n",
    "fitted_f.append(f_vals[opt_idx])\n",
    "fitted_I.append(I_vals[opt_idx])"
   ]
  },
  {
   "cell_type": "code",
   "execution_count": 13,
   "metadata": {
    "collapsed": false
   },
   "outputs": [
    {
     "data": {
      "image/png": "[encoded data removed]",
      "text/plain": [
       "<Figure size 432x288 with 1 Axes>"
      ]
     },
     "metadata": {},
     "output_type": "display_data"
    },
    {
     "name": "stdout",
     "output_type": "stream",
     "text": [
      "Failure rate, f:\n",
      "[0.004]\n",
      "Interdependency, I:\n",
      "[0.8]\n"
     ]
    }
   ],
   "source": [
    "# Plot\n",
    "#plt.title(fn)\n",
    "plt.hist(nnlifespans[opt_idx], weights=1/len(nnlifespans[opt_idx])*np.ones(len(nnlifespans[opt_idx])), label='Model', alpha=0.25)\n",
    "plt.hist(dat_lifespans, weights=1/len(dat_lifespans)*np.ones(len(dat_lifespans)), label='Vehicle', alpha=0.25)\n",
    "plt.legend(loc='best', fontsize=14)\n",
    "plt.xticks(fontsize=12)\n",
    "plt.yticks(fontsize=12)\n",
    "plt.xlabel('Failure time (days)', fontsize=14)\n",
    "plt.ylabel('Normalized frequency', fontsize=14)\n",
    "plt.annotate('f = '+str(round(fitted_f[0],3)),xy=(0.75,0.25),xycoords='axes fraction', fontsize=14)\n",
    "plt.annotate('I = '+str(round(fitted_I[0],1)),xy=(0.75,0.15),xycoords='axes fraction', fontsize=14)\n",
    "plt.tight_layout()\n",
    "plt.savefig('Figures/real_world/fI_hist.png',dpi=800)\n",
    "plt.show()\n",
    "    \n",
    "print ('Failure rate, f:')    \n",
    "print (fitted_f)\n",
    "print ('Interdependency, I:')    \n",
    "print (fitted_I)"
   ]
  },
  {
   "cell_type": "markdown",
   "metadata": {},
   "source": [
    "### Line search r based on empirical $f$ and $I$ values\n",
    "\n",
    "#### Run simulations:"
   ]
  },
  {
   "cell_type": "code",
   "execution_count": 4,
   "metadata": {
    "collapsed": true
   },
   "outputs": [],
   "source": [
    "run_grid_search([0.004], [0.8], N=200, pop_size=10000, filedir='r_f0.004_I0.8_N200_pop10000', r_list=np.arange(0.04,0.06,0.0005))"
   ]
  },
  {
   "cell_type": "markdown",
   "metadata": {},
   "source": [
    "#### Fitting for $r$ given $f$ and $I$:"
   ]
  },
  {
   "cell_type": "code",
   "execution_count": 15,
   "metadata": {
    "collapsed": false
   },
   "outputs": [],
   "source": [
    "from scipy.stats import ks_2samp\n",
    "\n",
    "fn = 'alpha_kg_lifespans'\n",
    "fitdir = 'r_f0.004_I0.8_N200_pop10000'\n",
    "\n",
    "experiment = 'Alpha-KG'\n",
    "\n",
    "ps = 10000 # pop_size\n",
    "\n",
    "fitted_r = []\n",
    "ks_dist_list = []\n",
    "\n",
    "for boot in range(100):\n",
    "    # read and bootstrap data\n",
    "    df = pd.read_csv('Data/real_world/empirical_mortality_data/Lifespans/'+fn+'.csv')\n",
    "    dat_lifespans = df[experiment].values\n",
    "    dat_lifespans = dat_lifespans[np.logical_not(np.isnan(dat_lifespans))]\n",
    "    dat_lifespans = np.random.choice(dat_lifespans, len(dat_lifespans), replace=True)\n",
    "\n",
    "    # Read in mortality data for each of the files\n",
    "    df = pd.read_csv('Data/real_world/empirical_mortality_data/Lifespans/'+fn+'.csv')\n",
    "    dat_lifespans = df[experiment].values\n",
    "    dat_lifespans = dat_lifespans[np.logical_not(np.isnan(dat_lifespans))]\n",
    "\n",
    "    # Run fitting\n",
    "    ks_dists = []\n",
    "    p_vals = []\n",
    "    kl_divs = []\n",
    "    r_vals = []\n",
    "\n",
    "    nnlifespans = []\n",
    "    for fi in os.listdir('Data/real_world/'+fitdir):\n",
    "\n",
    "        # get parameters\n",
    "        prm_str = fi.split('r')[1].split('.csv')\n",
    "        r = float(prm_str[0])\n",
    "\n",
    "        # get network data\n",
    "        net_df = pd.read_csv('Data/real_world/'+fitdir+'/'+fi, names=['age', 'deaths', 'mortality'])\n",
    "        net_ages = net_df['age'].values\n",
    "        net_deaths = net_df['deaths'].values\n",
    "        net_lifespans = []\n",
    "        for idd, net_age in enumerate(net_ages):\n",
    "            for iddd in range(int(net_deaths[idd])):\n",
    "                net_lifespans.append(net_age)\n",
    "        net_lifespans = np.array(net_lifespans)\n",
    "\n",
    "        # compute KS distance\n",
    "        D, p = ks_2samp(net_lifespans, dat_lifespans)\n",
    "        ks_dists.append(D)\n",
    "        p_vals.append(p)\n",
    "\n",
    "        # append details\n",
    "        r_vals.append(r)\n",
    "\n",
    "        nnlifespans.append(net_lifespans)\n",
    "\n",
    "    ks_dist_list.append(ks_dists)\n",
    "    \n",
    "# Compute average ks_dist\n",
    "ks_dists = list(np.mean(np.vstack(ks_dist_list),axis=0))\n",
    "\n",
    "# Get optimal (lowest MSE) fit\n",
    "opt_idx = ks_dists.index(min(ks_dists))\n",
    "#opt_idx = p_vals.index(max(p_vals))\n",
    "fitted_r.append(r_vals[opt_idx])"
   ]
  },
  {
   "cell_type": "code",
   "execution_count": 11,
   "metadata": {
    "collapsed": false
   },
   "outputs": [
    {
     "data": {
      "image/png": "[encoded data removed]",
      "text/plain": [
       "<Figure size 432x288 with 1 Axes>"
      ]
     },
     "metadata": {},
     "output_type": "display_data"
    },
    {
     "name": "stdout",
     "output_type": "stream",
     "text": [
      "Repair rate, r:\n",
      "[0.043000000000000003]\n"
     ]
    }
   ],
   "source": [
    "# Plot\n",
    "#plt.title(fn)\n",
    "plt.hist(nnlifespans[opt_idx], weights=1/len(nnlifespans[opt_idx])*np.ones(len(nnlifespans[opt_idx])), label='Model', alpha=0.25)\n",
    "plt.hist(dat_lifespans, weights=1/len(dat_lifespans)*np.ones(len(dat_lifespans)), label='Treated', alpha=0.25)\n",
    "plt.legend(loc='best', fontsize=14)\n",
    "plt.xticks(fontsize=12)\n",
    "plt.yticks(fontsize=12)\n",
    "plt.xlabel('Failure time (days)', fontsize=14)\n",
    "plt.ylabel('Normalized frequency', fontsize=14)\n",
    "plt.annotate('r = '+str(round(fitted_r[0],3)),xy=(0.75,0.25),xycoords='axes fraction',fontsize=14)\n",
    "plt.tight_layout()\n",
    "plt.savefig('Figures/real_world/r_hist.png',dpi=800)\n",
    "plt.show()\n",
    "    \n",
    "    \n",
    "print ('Repair rate, r:')    \n",
    "print (fitted_r)"
   ]
  },
  {
   "cell_type": "markdown",
   "metadata": {},
   "source": [
    "### Predicted Optimal Controls\n",
    "\n",
    "For C. elegans alpha-ketogluturate data:\n",
    "- $f=0.004$\n",
    "- $I=0.8$\n",
    "- $r=0.043$"
   ]
  },
  {
   "cell_type": "markdown",
   "metadata": {},
   "source": [
    "### Figure 3C: Q-learning optimal control applied to C. elegans treatment"
   ]
  },
  {
   "cell_type": "code",
   "execution_count": 17,
   "metadata": {
    "collapsed": false
   },
   "outputs": [
    {
     "name": "stderr",
     "output_type": "stream",
     "text": [
      "C:\\Users\\edsun\\Anaconda3\\lib\\site-packages\\scipy\\optimize\\minpack.py:163: RuntimeWarning: The iteration is not making good progress, as measured by the \n",
      "  improvement from the last ten iterations.\n",
      "  warnings.warn(msg, RuntimeWarning)\n"
     ]
    }
   ],
   "source": [
    "a,a1,a2,b,c = plotResultsAVG (directory='Data/real_world/Cluster_alphaketo',\n",
    "             param='alpha', p_range=np.concatenate((np.linspace(0,7.5,10),np.linspace(7.5,15,10)[1:])), \n",
    "             repair_list=[0,0.043], N=200, T=100, plot=False, soln_type='numeric', fine_res=True, binning=False,\n",
    "                     f=0.004, r=0.043, CI=75, get_CI=True)"
   ]
  },
  {
   "cell_type": "code",
   "execution_count": 18,
   "metadata": {
    "collapsed": false
   },
   "outputs": [
    {
     "data": {
      "image/png": "[encoded data removed]",
      "text/plain": [
       "<Figure size 432x144 with 1 Axes>"
      ]
     },
     "metadata": {},
     "output_type": "display_data"
    }
   ],
   "source": [
    "comp_p_range = c\n",
    "plt.figure(figsize=(6,2))\n",
    "plt.errorbar(comp_p_range, a, color='0.5', yerr=(np.array(a)-np.array(a1), np.array(a2)-np.array(a)), ecolor='0.5', capsize=2.5, elinewidth=1.5, linewidth=0)\n",
    "plt.scatter(comp_p_range, a, c='0.5', marker='o', s=50, edgecolors='none', label='Start Repair')\n",
    "plt.ylabel(r'$T_1$ (days)', fontsize=16)\n",
    "plt.xlabel(r'Repair Cost, $\\alpha$', fontsize=16)\n",
    "plt.xlim(-0.5,6.3)\n",
    "plt.xticks(np.arange(0,7,1), fontsize=13)\n",
    "plt.ylim(-1,10)\n",
    "plt.yticks(np.arange(0,11,2), fontsize=13)\n",
    "plt.tight_layout()\n",
    "plt.savefig('Figures/real_world/Alpha_Keto_RL.png', dpi=800)\n",
    "plt.show()"
   ]
  },
  {
   "cell_type": "markdown",
   "metadata": {},
   "source": [
    "A colored background version..."
   ]
  },
  {
   "cell_type": "code",
   "execution_count": 9,
   "metadata": {
    "collapsed": false
   },
   "outputs": [
    {
     "data": {
      "image/png": "[encoded data removed]",
      "text/plain": [
       "<Figure size 432x144 with 1 Axes>"
      ]
     },
     "metadata": {},
     "output_type": "display_data"
    }
   ],
   "source": [
    "comp_p_range = c\n",
    "plt.figure(figsize=(6,2))\n",
    "plt.errorbar(comp_p_range, a, color='0.5', yerr=(np.array(a)-np.array(a1), np.array(a2)-np.array(a)), ecolor='0.5', capsize=2.5, elinewidth=1.5, linewidth=0)\n",
    "plt.scatter(comp_p_range, a, c='0.5', marker='o', s=50, edgecolors='none', label='Start Repair')\n",
    "plt.ylabel(r'$T_1$ (days)', fontsize=16)\n",
    "plt.xlabel(r'Repair Cost, $\\alpha$', fontsize=16)\n",
    "plt.axvspan(6.3, 9.7, facecolor='red', alpha=0.1)\n",
    "plt.axvspan(-0.5, 6.3, facecolor='green', alpha=0.1)\n",
    "plt.xlim(-0.5,9.7)\n",
    "plt.xticks(np.arange(0,10,1), fontsize=13)\n",
    "plt.yticks(fontsize=13)\n",
    "plt.tight_layout()\n",
    "plt.savefig('Figures/real_world/Alpha_Keto_RL.png', dpi=800)\n",
    "plt.show()"
   ]
  }
 ],
 "metadata": {
  "anaconda-cloud": {},
  "kernelspec": {
   "display_name": "Python [default]",
   "language": "python",
   "name": "python3"
  },
  "language_info": {
   "codemirror_mode": {
    "name": "ipython",
    "version": 3
   },
   "file_extension": ".py",
   "mimetype": "text/x-python",
   "name": "python",
   "nbconvert_exporter": "python",
   "pygments_lexer": "ipython3",
   "version": "3.5.6"
  }
 },
 "nbformat": 4,
 "nbformat_minor": 1
}
